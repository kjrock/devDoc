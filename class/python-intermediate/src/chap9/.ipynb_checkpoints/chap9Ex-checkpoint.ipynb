{
 "cells": [
  {
   "cell_type": "code",
   "execution_count": 2,
   "metadata": {},
   "outputs": [
    {
     "name": "stdout",
     "output_type": "stream",
     "text": [
      "['book', 'pencil']\n",
      "['book', 'pencil']\n"
     ]
    }
   ],
   "source": [
    "class Student:\n",
    "    bag = []\n",
    "\n",
    "    def insert_bag(self, stuff):\n",
    "        Student.bag.append(stuff)\n",
    "\n",
    "    def bag_info(self):\n",
    "        print(Student.bag)\n",
    "\n",
    "hong = Student()\n",
    "hong.insert_bag('book')\n",
    "yun = Student()\n",
    "yun.insert_bag('pencil')\n",
    "hong.bag_info()\n",
    "hong.bag_info()"
   ]
  },
  {
   "cell_type": "code",
   "execution_count": null,
   "metadata": {},
   "outputs": [],
   "source": []
  },
  {
   "cell_type": "code",
   "execution_count": null,
   "metadata": {},
   "outputs": [],
   "source": []
  },
  {
   "cell_type": "code",
   "execution_count": 1,
   "metadata": {},
   "outputs": [
    {
     "name": "stdout",
     "output_type": "stream",
     "text": [
      "30\n",
      "200\n"
     ]
    }
   ],
   "source": [
    "class Calc:\n",
    "    def __init__(self):\n",
    "        self.name = 'lee'\n",
    "    @staticmethod\n",
    "    def plus(a, b):\n",
    "        print(a + b)\n",
    "\n",
    "    @staticmethod\n",
    "    def multi(a, b):\n",
    "        print(a * b)\n",
    "\n",
    "    def print_info(self):\n",
    "        print(self.name)\n",
    "\n",
    "Calc.plus(10,20)\n",
    "Calc.multi(10,20)"
   ]
  },
  {
   "cell_type": "code",
   "execution_count": null,
   "metadata": {},
   "outputs": [],
   "source": []
  },
  {
   "cell_type": "code",
   "execution_count": null,
   "metadata": {},
   "outputs": [],
   "source": []
  },
  {
   "cell_type": "code",
   "execution_count": 3,
   "metadata": {},
   "outputs": [
    {
     "name": "stdout",
     "output_type": "stream",
     "text": [
      "2대의 자동차 생산\n"
     ]
    }
   ],
   "source": [
    "class Car:\n",
    "    count = 0\n",
    "    \n",
    "    def __init__(self):\n",
    "        Car.count += 1\n",
    "    \n",
    "    @classmethod\n",
    "    def maked_car_count(cls):\n",
    "        print('{}대의 자동차 생산'.format(cls.count))\n",
    "        \n",
    "c1 = Car()\n",
    "c2 = Car()\n",
    "Car.maked_car_count()"
   ]
  },
  {
   "cell_type": "code",
   "execution_count": null,
   "metadata": {},
   "outputs": [],
   "source": []
  },
  {
   "cell_type": "code",
   "execution_count": null,
   "metadata": {},
   "outputs": [],
   "source": []
  },
  {
   "cell_type": "code",
   "execution_count": null,
   "metadata": {},
   "outputs": [],
   "source": []
  },
  {
   "cell_type": "code",
   "execution_count": null,
   "metadata": {},
   "outputs": [],
   "source": []
  },
  {
   "cell_type": "code",
   "execution_count": null,
   "metadata": {},
   "outputs": [],
   "source": []
  },
  {
   "cell_type": "code",
   "execution_count": null,
   "metadata": {},
   "outputs": [],
   "source": []
  },
  {
   "cell_type": "code",
   "execution_count": null,
   "metadata": {},
   "outputs": [],
   "source": []
  },
  {
   "cell_type": "code",
   "execution_count": null,
   "metadata": {},
   "outputs": [],
   "source": []
  },
  {
   "cell_type": "code",
   "execution_count": null,
   "metadata": {},
   "outputs": [],
   "source": []
  },
  {
   "cell_type": "code",
   "execution_count": null,
   "metadata": {},
   "outputs": [],
   "source": []
  },
  {
   "cell_type": "code",
   "execution_count": null,
   "metadata": {},
   "outputs": [],
   "source": []
  },
  {
   "cell_type": "code",
   "execution_count": null,
   "metadata": {},
   "outputs": [],
   "source": []
  }
 ],
 "metadata": {
  "kernelspec": {
   "display_name": "Python 3",
   "language": "python",
   "name": "python3"
  },
  "language_info": {
   "codemirror_mode": {
    "name": "ipython",
    "version": 3
   },
   "file_extension": ".py",
   "mimetype": "text/x-python",
   "name": "python",
   "nbconvert_exporter": "python",
   "pygments_lexer": "ipython3",
   "version": "3.7.4"
  }
 },
 "nbformat": 4,
 "nbformat_minor": 4
}
