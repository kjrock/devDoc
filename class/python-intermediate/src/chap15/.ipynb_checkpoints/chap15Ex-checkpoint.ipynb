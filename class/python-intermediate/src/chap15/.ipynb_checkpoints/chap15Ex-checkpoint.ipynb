{
 "cells": [
  {
   "cell_type": "code",
   "execution_count": 7,
   "metadata": {},
   "outputs": [
    {
     "name": "stdout",
     "output_type": "stream",
     "text": [
      "<re.Match object; span=(0, 5), match='hello'>\n",
      "0\n",
      "5\n"
     ]
    }
   ],
   "source": [
    "import re\n",
    "\n",
    "rc = re.compile('hello')\n",
    "rdata = re.match('hello', 'hello, world')\n",
    "rdata = re.match(r'hello', 'hello, world')\n",
    "rdata = re.match(rc, 'hello, world')\n",
    "print(rdata)\n",
    "print(rdata.span()[0])\n",
    "print(rdata.span()[1])"
   ]
  },
  {
   "cell_type": "code",
   "execution_count": null,
   "metadata": {},
   "outputs": [],
   "source": []
  },
  {
   "cell_type": "code",
   "execution_count": 8,
   "metadata": {},
   "outputs": [
    {
     "name": "stdout",
     "output_type": "stream",
     "text": [
      "<re.Match object; span=(0, 5), match='hello'>\n",
      "<re.Match object; span=(6, 11), match='world'>\n",
      "None\n"
     ]
    }
   ],
   "source": [
    "robj2 = re.search('^hello','hello, world')\n",
    "print(robj2)\n",
    "robj3 = re.search('world$', 'hello world')\n",
    "print(robj3)\n",
    "robj4 = re.match('world','hello world')\n",
    "print(robj4)"
   ]
  },
  {
   "cell_type": "code",
   "execution_count": 9,
   "metadata": {},
   "outputs": [
    {
     "name": "stdout",
     "output_type": "stream",
     "text": [
      "<re.Match object; span=(5, 10), match='world'>\n"
     ]
    }
   ],
   "source": [
    "robj5 = re.search('hello|world', 'good world')\n",
    "print(robj5)"
   ]
  },
  {
   "cell_type": "code",
   "execution_count": null,
   "metadata": {},
   "outputs": [],
   "source": []
  },
  {
   "cell_type": "code",
   "execution_count": 10,
   "metadata": {},
   "outputs": [
    {
     "name": "stdout",
     "output_type": "stream",
     "text": [
      "<re.Match object; span=(0, 3), match='121'>\n",
      "<re.Match object; span=(0, 3), match='121'>\n"
     ]
    }
   ],
   "source": [
    "print(re.match(r'[0-9]*', '121hello'))\n",
    "print(re.match(r'[0-9]+', '121hello'))"
   ]
  },
  {
   "cell_type": "code",
   "execution_count": null,
   "metadata": {},
   "outputs": [],
   "source": []
  },
  {
   "cell_type": "code",
   "execution_count": 11,
   "metadata": {},
   "outputs": [
    {
     "name": "stdout",
     "output_type": "stream",
     "text": [
      "<re.Match object; span=(0, 1), match='b'>\n",
      "None\n",
      "<re.Match object; span=(0, 3), match='aab'>\n",
      "<re.Match object; span=(0, 3), match='aab'>\n"
     ]
    }
   ],
   "source": [
    "print(re.match(r'a*b', 'b'))\n",
    "print(re.match(r'a+b', 'b'))\n",
    "print(re.match(r'a*b', 'aab'))\n",
    "print(re.match(r'a+b', 'aab'))"
   ]
  },
  {
   "cell_type": "code",
   "execution_count": null,
   "metadata": {},
   "outputs": [],
   "source": []
  },
  {
   "cell_type": "code",
   "execution_count": 12,
   "metadata": {},
   "outputs": [
    {
     "name": "stdout",
     "output_type": "stream",
     "text": [
      "<re.Match object; span=(0, 3), match='abd'>\n",
      "<re.Match object; span=(0, 4), match='abcd'>\n"
     ]
    }
   ],
   "source": [
    "print(re.match(r'ab?d', 'abd'))\n",
    "print(re.match(r'ab.d', 'abcd'))"
   ]
  },
  {
   "cell_type": "code",
   "execution_count": null,
   "metadata": {},
   "outputs": [],
   "source": []
  },
  {
   "cell_type": "code",
   "execution_count": 13,
   "metadata": {},
   "outputs": [
    {
     "name": "stdout",
     "output_type": "stream",
     "text": [
      "<re.Match object; span=(0, 13), match='010-7777-7878'>\n",
      "<re.Match object; span=(0, 11), match='02-111-7878'>\n"
     ]
    }
   ],
   "source": [
    "print(re.match(r'[0-9]{2,3}-[0-9]{3,4}-[0-9]{4}', '010-7777-7878'))\n",
    "print(re.match(r'[0-9]{2,3}-[0-9]{3,4}-[0-9]{4}', '02-111-7878'))"
   ]
  },
  {
   "cell_type": "code",
   "execution_count": null,
   "metadata": {},
   "outputs": [],
   "source": []
  },
  {
   "cell_type": "code",
   "execution_count": 14,
   "metadata": {},
   "outputs": [
    {
     "name": "stdout",
     "output_type": "stream",
     "text": [
      "<re.Match object; span=(0, 12), match='everyone5656'>\n",
      "<re.Match object; span=(0, 5), match='안녕하세요'>\n"
     ]
    }
   ],
   "source": [
    "print(re.match(r'[a-zA-Z0-9]+', 'everyone5656'))\n",
    "print(re.match(r'[가-힣]+', '안녕하세요5656'))"
   ]
  },
  {
   "cell_type": "code",
   "execution_count": null,
   "metadata": {},
   "outputs": [],
   "source": []
  },
  {
   "cell_type": "code",
   "execution_count": 15,
   "metadata": {},
   "outputs": [
    {
     "name": "stdout",
     "output_type": "stream",
     "text": [
      "<re.Match object; span=(0, 5), match='every'>\n",
      "<re.Match object; span=(0, 5), match='안녕하세요'>\n"
     ]
    }
   ],
   "source": [
    "print(re.match(r'[^A-Z]+', 'everyONE'))\n",
    "print(re.match(r'[^0-9]+', '안녕하세요5656'))"
   ]
  },
  {
   "cell_type": "code",
   "execution_count": null,
   "metadata": {},
   "outputs": [],
   "source": []
  },
  {
   "cell_type": "code",
   "execution_count": 16,
   "metadata": {},
   "outputs": [
    {
     "name": "stdout",
     "output_type": "stream",
     "text": [
      "<re.Match object; span=(0, 3), match='342'>\n",
      "<re.Match object; span=(0, 8), match='everyone'>\n",
      "<re.Match object; span=(0, 11), match='342everyone'>\n",
      "<re.Match object; span=(0, 2), match='()'>\n"
     ]
    }
   ],
   "source": [
    "print(re.match(r'\\d+', '342everyone'))\n",
    "print(re.match(r'\\D+', 'everyone5656'))\n",
    "print(re.match(r'\\w+', '342everyone'))\n",
    "print(re.match(r'\\W+', '()everyone5656'))"
   ]
  },
  {
   "cell_type": "code",
   "execution_count": null,
   "metadata": {},
   "outputs": [],
   "source": []
  },
  {
   "cell_type": "code",
   "execution_count": 17,
   "metadata": {},
   "outputs": [
    {
     "name": "stdout",
     "output_type": "stream",
     "text": [
      "10\n",
      "2283\n",
      "10 2283\n",
      "10 2283\n",
      "('10', '2283')\n"
     ]
    }
   ],
   "source": [
    "m = re.match('([0-9]+) ([0-9]+)', '10 2283')\n",
    "print(m.group(1))\n",
    "print(m.group(2))\n",
    "print(m.group(0))\n",
    "print(m.group())\n",
    "print(m.groups())"
   ]
  },
  {
   "cell_type": "code",
   "execution_count": null,
   "metadata": {},
   "outputs": [],
   "source": []
  },
  {
   "cell_type": "code",
   "execution_count": 19,
   "metadata": {},
   "outputs": [
    {
     "name": "stdout",
     "output_type": "stream",
     "text": [
      "['12', '22', '4', '3', '82']\n",
      "fruit box fruit tree\n",
      "num num num string python num num\n"
     ]
    }
   ],
   "source": [
    "fdata = re.findall('[0-9]+', '12 22 4 string python 3 82')\n",
    "print(fdata)\n",
    "\n",
    "sdata = re.sub('apple|orange', 'fruit', 'apple box orange tree')\n",
    "print(sdata)\n",
    "\n",
    "sdata2 = re.sub('[0-9]+', 'num', '12 22 4 string python 3 82')\n",
    "print(sdata2)"
   ]
  },
  {
   "cell_type": "code",
   "execution_count": null,
   "metadata": {},
   "outputs": [],
   "source": []
  },
  {
   "cell_type": "code",
   "execution_count": 20,
   "metadata": {},
   "outputs": [
    {
     "name": "stdout",
     "output_type": "stream",
     "text": [
      "120 220 40 string python 30 820\n",
      "120 220 40 string python 30 820\n"
     ]
    }
   ],
   "source": [
    "def multiple(m):\n",
    "    n = int(m.group())\n",
    "    return str(n*10)\n",
    "\n",
    "sdata3 = re.sub('[0-9]+', multiple, '12 22 4 string python 3 82')\n",
    "print(sdata3)\n",
    "\n",
    "sdata4 = re.sub('[0-9]+', lambda m:str(int(m.group())*10), '12 22 4 string python 3 82')\n",
    "print(sdata4)"
   ]
  },
  {
   "cell_type": "code",
   "execution_count": null,
   "metadata": {},
   "outputs": [],
   "source": []
  },
  {
   "cell_type": "code",
   "execution_count": null,
   "metadata": {},
   "outputs": [],
   "source": []
  },
  {
   "cell_type": "code",
   "execution_count": null,
   "metadata": {},
   "outputs": [],
   "source": []
  }
 ],
 "metadata": {
  "kernelspec": {
   "display_name": "Python 3",
   "language": "python",
   "name": "python3"
  },
  "language_info": {
   "codemirror_mode": {
    "name": "ipython",
    "version": 3
   },
   "file_extension": ".py",
   "mimetype": "text/x-python",
   "name": "python",
   "nbconvert_exporter": "python",
   "pygments_lexer": "ipython3",
   "version": "3.7.4"
  }
 },
 "nbformat": 4,
 "nbformat_minor": 4
}
