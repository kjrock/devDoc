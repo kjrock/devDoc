{
 "cells": [
  {
   "cell_type": "code",
   "execution_count": 2,
   "metadata": {},
   "outputs": [
    {
     "name": "stdout",
     "output_type": "stream",
     "text": [
      "hello 함수 시작\n",
      "hello\n",
      "hello 함수 종료\n",
      "insa 함수 시작\n",
      "insa\n",
      "insa 함수 종료\n"
     ]
    }
   ],
   "source": [
    "def trace(func):\n",
    "    def wrapper():\n",
    "        print(func.__name__, '함수 시작')\n",
    "        func()\n",
    "        print(func.__name__, '함수 종료')\n",
    "    return wrapper\n",
    "\n",
    "def hello():\n",
    "    print('hello')\n",
    "\n",
    "def insa():\n",
    "    print('insa')\n",
    "    \n",
    "hello = trace(hello)\n",
    "hello()\n",
    "\n",
    "insa = trace(insa)\n",
    "insa()"
   ]
  },
  {
   "cell_type": "code",
   "execution_count": null,
   "metadata": {},
   "outputs": [],
   "source": []
  },
  {
   "cell_type": "code",
   "execution_count": null,
   "metadata": {},
   "outputs": [],
   "source": []
  },
  {
   "cell_type": "code",
   "execution_count": null,
   "metadata": {},
   "outputs": [],
   "source": []
  },
  {
   "cell_type": "code",
   "execution_count": 3,
   "metadata": {},
   "outputs": [
    {
     "name": "stdout",
     "output_type": "stream",
     "text": [
      "sum : a = 40, b = 100 -> 140\n",
      "140\n"
     ]
    }
   ],
   "source": [
    "def trace2(func):\n",
    "    def wrapper(a, b):\n",
    "        r = func(a, b)\n",
    "        print('{} : a = {}, b = {} -> {}'.format(func.__name__, a, b, r))\n",
    "        return r\n",
    "    return wrapper\n",
    "\n",
    "@trace2\n",
    "def sum(a, b):\n",
    "    return a + b\n",
    "\n",
    "print(sum(40,100))"
   ]
  },
  {
   "cell_type": "code",
   "execution_count": null,
   "metadata": {},
   "outputs": [],
   "source": []
  },
  {
   "cell_type": "code",
   "execution_count": null,
   "metadata": {},
   "outputs": [],
   "source": []
  },
  {
   "cell_type": "code",
   "execution_count": null,
   "metadata": {},
   "outputs": [],
   "source": []
  },
  {
   "cell_type": "code",
   "execution_count": 4,
   "metadata": {},
   "outputs": [
    {
     "name": "stdout",
     "output_type": "stream",
     "text": [
      "get_max(args=(10, 40, 29, 50, 100), kwargs={}) -> 100\n",
      "100\n",
      "\n",
      "get_min(args=(), kwargs={'x': 10, 'y': 40, 'z': 5}) -> 5\n",
      "5\n"
     ]
    }
   ],
   "source": [
    "def trace3(func):\n",
    "    def wrapper(*args, **kwargs):\n",
    "        r = func(*args, **kwargs)\n",
    "        print('{0}(args={1}, kwargs={2}) -> {3}'.format(func.__name__, args, kwargs,r))\n",
    "\n",
    "        return r\n",
    "    return wrapper\n",
    "\n",
    "@trace3\n",
    "def get_max(*args):\n",
    "    return max(args)\n",
    "\n",
    "@trace3\n",
    "def get_min(**kwargs):\n",
    "    return min(kwargs.values())\n",
    "\n",
    "print(get_max(10,40,29,50,100))\n",
    "print()\n",
    "print(get_min(x=10, y=40, z=5))"
   ]
  },
  {
   "cell_type": "code",
   "execution_count": null,
   "metadata": {},
   "outputs": [],
   "source": []
  },
  {
   "cell_type": "code",
   "execution_count": null,
   "metadata": {},
   "outputs": [],
   "source": []
  },
  {
   "cell_type": "code",
   "execution_count": null,
   "metadata": {},
   "outputs": [],
   "source": []
  },
  {
   "cell_type": "code",
   "execution_count": 6,
   "metadata": {},
   "outputs": [
    {
     "name": "stdout",
     "output_type": "stream",
     "text": [
      "hello function start\n",
      "hello\n",
      "hello function end\n"
     ]
    }
   ],
   "source": [
    "class CTrace:\n",
    "    def __init__(self, func):\n",
    "        self.func = func\n",
    "\n",
    "    def __call__(self):\n",
    "        print(self.func.__name__, 'function start')\n",
    "        self.func()\n",
    "        print(self.func.__name__, 'function end')\n",
    "\n",
    "@CTrace\n",
    "def hello():\n",
    "    print('hello')\n",
    "\n",
    "#hello = CTrace(hello)\n",
    "hello()"
   ]
  },
  {
   "cell_type": "code",
   "execution_count": null,
   "metadata": {},
   "outputs": [],
   "source": []
  },
  {
   "cell_type": "code",
   "execution_count": null,
   "metadata": {},
   "outputs": [],
   "source": []
  },
  {
   "cell_type": "code",
   "execution_count": 1,
   "metadata": {},
   "outputs": [
    {
     "name": "stdout",
     "output_type": "stream",
     "text": [
      "sum(a=20 b=40) -> 300\n",
      "300\n",
      "subtract(a=20 b=40) -> -200\n",
      "-200\n"
     ]
    }
   ],
   "source": [
    "class CTrace2:\n",
    "    def __init__(self, x):\n",
    "        self.x = x\n",
    "\n",
    "    def __call__(self, func):\n",
    "        def wrapper(a, b):\n",
    "            r  = func(a, b) * self.x\n",
    "            print('{0}(a={1} b={2}) -> {3}'.format(func.__name__, a, b, r))\n",
    "            return r\n",
    "        return wrapper\n",
    "\n",
    "@CTrace2(5)\n",
    "def sum(a, b):\n",
    "    return a + b\n",
    "\n",
    "@CTrace2(10)\n",
    "def subtract(a, b):\n",
    "    return a - b\n",
    "\n",
    "print(sum(20,40))\n",
    "print(subtract(20,40))"
   ]
  },
  {
   "cell_type": "code",
   "execution_count": null,
   "metadata": {},
   "outputs": [],
   "source": []
  },
  {
   "cell_type": "code",
   "execution_count": null,
   "metadata": {},
   "outputs": [],
   "source": []
  },
  {
   "cell_type": "code",
   "execution_count": null,
   "metadata": {},
   "outputs": [],
   "source": []
  },
  {
   "cell_type": "code",
   "execution_count": null,
   "metadata": {},
   "outputs": [],
   "source": []
  },
  {
   "cell_type": "code",
   "execution_count": null,
   "metadata": {},
   "outputs": [],
   "source": []
  },
  {
   "cell_type": "code",
   "execution_count": null,
   "metadata": {},
   "outputs": [],
   "source": []
  },
  {
   "cell_type": "code",
   "execution_count": null,
   "metadata": {},
   "outputs": [],
   "source": []
  },
  {
   "cell_type": "code",
   "execution_count": null,
   "metadata": {},
   "outputs": [],
   "source": []
  }
 ],
 "metadata": {
  "kernelspec": {
   "display_name": "Python 3",
   "language": "python",
   "name": "python3"
  },
  "language_info": {
   "codemirror_mode": {
    "name": "ipython",
    "version": 3
   },
   "file_extension": ".py",
   "mimetype": "text/x-python",
   "name": "python",
   "nbconvert_exporter": "python",
   "pygments_lexer": "ipython3",
   "version": "3.7.4"
  }
 },
 "nbformat": 4,
 "nbformat_minor": 4
}
