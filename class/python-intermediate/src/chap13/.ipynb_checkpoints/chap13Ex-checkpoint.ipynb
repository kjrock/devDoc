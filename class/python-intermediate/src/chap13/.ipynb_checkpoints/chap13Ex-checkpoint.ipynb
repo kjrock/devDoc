{
 "cells": [
  {
   "cell_type": "code",
   "execution_count": 1,
   "metadata": {},
   "outputs": [
    {
     "name": "stdout",
     "output_type": "stream",
     "text": [
      "1\n",
      "2\n",
      "3\n"
     ]
    }
   ],
   "source": [
    "def num_corutine():\n",
    "    while True:\n",
    "        x = yield\n",
    "        print(x)\n",
    "\n",
    "co = num_corutine()\n",
    "next(co)\n",
    "\n",
    "co.send(1)\n",
    "co.send(2)\n",
    "co.send(3)\n",
    "co.close()"
   ]
  },
  {
   "cell_type": "code",
   "execution_count": null,
   "metadata": {},
   "outputs": [],
   "source": []
  },
  {
   "cell_type": "code",
   "execution_count": null,
   "metadata": {},
   "outputs": [],
   "source": []
  },
  {
   "cell_type": "code",
   "execution_count": 2,
   "metadata": {},
   "outputs": [
    {
     "name": "stdout",
     "output_type": "stream",
     "text": [
      "0\n",
      "1\n",
      "3\n",
      "6\n"
     ]
    }
   ],
   "source": [
    "def number_corutine2():\n",
    "    total = 0\n",
    "    while True:\n",
    "        x = yield total\n",
    "        total+=x\n",
    "\n",
    "co = number_corutine2()\n",
    "print(next(co))\n",
    "print(co.send(1))\n",
    "print(co.send(2))\n",
    "print(co.send(3))"
   ]
  },
  {
   "cell_type": "code",
   "execution_count": null,
   "metadata": {},
   "outputs": [],
   "source": []
  },
  {
   "cell_type": "code",
   "execution_count": 4,
   "metadata": {},
   "outputs": [
    {
     "name": "stdout",
     "output_type": "stream",
     "text": [
      "0\n",
      "1\n",
      "2\n",
      "3\n",
      "4\n",
      "corutine end!!!\n"
     ]
    }
   ],
   "source": [
    "def number_corutine3():\n",
    "    try:\n",
    "        while True:\n",
    "            x = (yield)\n",
    "            print(x)\n",
    "    except GeneratorExit:\n",
    "        print('corutine end!!!')\n",
    "\n",
    "co = number_corutine3()\n",
    "next(co)\n",
    "\n",
    "for i in range(5):\n",
    "    co.send(i)\n",
    "\n",
    "co.close()"
   ]
  },
  {
   "cell_type": "code",
   "execution_count": null,
   "metadata": {},
   "outputs": [],
   "source": []
  },
  {
   "cell_type": "code",
   "execution_count": null,
   "metadata": {},
   "outputs": [],
   "source": []
  },
  {
   "cell_type": "code",
   "execution_count": 5,
   "metadata": {},
   "outputs": [
    {
     "name": "stdout",
     "output_type": "stream",
     "text": [
      "예외로 코루틴 종료\n",
      "190\n"
     ]
    }
   ],
   "source": [
    "def number_corutine4():\n",
    "    total = 0\n",
    "    try:\n",
    "        while True:\n",
    "            x = yield\n",
    "            total += x\n",
    "    except RuntimeError as e:\n",
    "        print(e)\n",
    "        yield  total\n",
    "\n",
    "co = number_corutine4()\n",
    "next(co)\n",
    "\n",
    "for i in range(20):\n",
    "    co.send(i)\n",
    "print(co.throw(RuntimeError, '예외로 코루틴 종료'))"
   ]
  },
  {
   "cell_type": "code",
   "execution_count": null,
   "metadata": {},
   "outputs": [],
   "source": []
  },
  {
   "cell_type": "code",
   "execution_count": null,
   "metadata": {},
   "outputs": [],
   "source": []
  },
  {
   "cell_type": "code",
   "execution_count": 8,
   "metadata": {},
   "outputs": [
    {
     "name": "stdout",
     "output_type": "stream",
     "text": [
      "190\n",
      "5050\n"
     ]
    }
   ],
   "source": [
    "def accumulate():\n",
    "    total = 0\n",
    "    while True:\n",
    "        x = (yield)\n",
    "        if x is None:\n",
    "            return total\n",
    "        total += x\n",
    "\n",
    "def sum_corutine():\n",
    "    while True:\n",
    "        total = yield from accumulate()\n",
    "        print(total)\n",
    "\n",
    "co = sum_corutine()\n",
    "next(co)\n",
    "\n",
    "for i in range(20):\n",
    "    co.send(i)\n",
    "\n",
    "co.send(None)\n",
    "\n",
    "for i in range(1,101):\n",
    "    co.send(i)\n",
    "co.send(None)\n",
    "co.close()"
   ]
  },
  {
   "cell_type": "code",
   "execution_count": null,
   "metadata": {},
   "outputs": [],
   "source": []
  },
  {
   "cell_type": "code",
   "execution_count": null,
   "metadata": {},
   "outputs": [],
   "source": []
  },
  {
   "cell_type": "code",
   "execution_count": null,
   "metadata": {},
   "outputs": [],
   "source": []
  },
  {
   "cell_type": "code",
   "execution_count": null,
   "metadata": {},
   "outputs": [],
   "source": []
  },
  {
   "cell_type": "code",
   "execution_count": null,
   "metadata": {},
   "outputs": [],
   "source": []
  },
  {
   "cell_type": "code",
   "execution_count": null,
   "metadata": {},
   "outputs": [],
   "source": []
  },
  {
   "cell_type": "code",
   "execution_count": null,
   "metadata": {},
   "outputs": [],
   "source": []
  },
  {
   "cell_type": "code",
   "execution_count": null,
   "metadata": {},
   "outputs": [],
   "source": []
  },
  {
   "cell_type": "code",
   "execution_count": null,
   "metadata": {},
   "outputs": [],
   "source": []
  },
  {
   "cell_type": "code",
   "execution_count": null,
   "metadata": {},
   "outputs": [],
   "source": []
  },
  {
   "cell_type": "code",
   "execution_count": null,
   "metadata": {},
   "outputs": [],
   "source": []
  },
  {
   "cell_type": "code",
   "execution_count": null,
   "metadata": {},
   "outputs": [],
   "source": []
  },
  {
   "cell_type": "code",
   "execution_count": null,
   "metadata": {},
   "outputs": [],
   "source": []
  },
  {
   "cell_type": "code",
   "execution_count": null,
   "metadata": {},
   "outputs": [],
   "source": []
  },
  {
   "cell_type": "code",
   "execution_count": null,
   "metadata": {},
   "outputs": [],
   "source": []
  },
  {
   "cell_type": "code",
   "execution_count": null,
   "metadata": {},
   "outputs": [],
   "source": []
  },
  {
   "cell_type": "code",
   "execution_count": null,
   "metadata": {},
   "outputs": [],
   "source": []
  },
  {
   "cell_type": "code",
   "execution_count": null,
   "metadata": {},
   "outputs": [],
   "source": []
  },
  {
   "cell_type": "code",
   "execution_count": null,
   "metadata": {},
   "outputs": [],
   "source": []
  }
 ],
 "metadata": {
  "kernelspec": {
   "display_name": "Python 3",
   "language": "python",
   "name": "python3"
  },
  "language_info": {
   "codemirror_mode": {
    "name": "ipython",
    "version": 3
   },
   "file_extension": ".py",
   "mimetype": "text/x-python",
   "name": "python",
   "nbconvert_exporter": "python",
   "pygments_lexer": "ipython3",
   "version": "3.7.4"
  }
 },
 "nbformat": 4,
 "nbformat_minor": 4
}
